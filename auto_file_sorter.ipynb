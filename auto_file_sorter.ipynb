{
 "cells": [
  {
   "cell_type": "markdown",
   "id": "cb6f36a3-dd61-4af4-9bc6-a02ed82f6423",
   "metadata": {},
   "source": [
    "# File sorter"
   ]
  },
  {
   "cell_type": "code",
   "execution_count": 1,
   "id": "065508f7-bd91-4b53-858d-97c08be09bcc",
   "metadata": {
    "tags": []
   },
   "outputs": [],
   "source": [
    "import os, shutil"
   ]
  },
  {
   "cell_type": "code",
   "execution_count": 6,
   "id": "db17b8ac-9b34-4299-a60c-5945d57445fa",
   "metadata": {
    "tags": []
   },
   "outputs": [],
   "source": [
    "path = r\"D:/Learning Book and Course/PowerBI Dashboard/\""
   ]
  },
  {
   "cell_type": "code",
   "execution_count": 9,
   "id": "abcc9b5c-fc50-4210-b002-ef101514096f",
   "metadata": {
    "tags": []
   },
   "outputs": [],
   "source": [
    "file_name = os.listdir(path)"
   ]
  },
  {
   "cell_type": "code",
   "execution_count": 8,
   "id": "aebec913-d7c1-4005-95a7-12a08026b2bc",
   "metadata": {
    "tags": []
   },
   "outputs": [
    {
     "name": "stdout",
     "output_type": "stream",
     "text": [
      "D:/Learning Book and Course/PowerBI Dashboard/Exce File\n",
      "D:/Learning Book and Course/PowerBI Dashboard/PowerBI File\n"
     ]
    }
   ],
   "source": [
    "folder_name = ['Exce File','PowerBI File']\n",
    "\n",
    "for loop in range(0,2): \n",
    "    if not os.path.exists(path + folder_name[loop]):\n",
    "        print (path + folder_name[loop])\n",
    "        os.makedirs(path + folder_name[loop])"
   ]
  },
  {
   "cell_type": "code",
   "execution_count": 21,
   "id": "3db1193a-9c94-4976-821b-8610afda80d0",
   "metadata": {
    "tags": []
   },
   "outputs": [],
   "source": [
    "for file in file_name:\n",
    "    if \".xlsx\" in file and not os.path.exists(path + \"Exce File/\" + file):\n",
    "        shutil.move(path + file,path + \"Exce File/\" + file)\n",
    "    elif \".pbix\" in file and not os.path.exists(path + \"PowerBI File/\" + file):\n",
    "        shutil.move(path + file,path + \"PowerBI File/\" + file)"
   ]
  },
  {
   "cell_type": "code",
   "execution_count": null,
   "id": "d243f31a-9d74-429b-8e3d-546e507320e3",
   "metadata": {},
   "outputs": [],
   "source": []
  }
 ],
 "metadata": {
  "kernelspec": {
   "display_name": "Python 3 (ipykernel)",
   "language": "python",
   "name": "python3"
  },
  "language_info": {
   "codemirror_mode": {
    "name": "ipython",
    "version": 3
   },
   "file_extension": ".py",
   "mimetype": "text/x-python",
   "name": "python",
   "nbconvert_exporter": "python",
   "pygments_lexer": "ipython3",
   "version": "3.11.4"
  }
 },
 "nbformat": 4,
 "nbformat_minor": 5
}

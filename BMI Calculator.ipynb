{
 "cells": [
  {
   "cell_type": "markdown",
   "id": "ab3d9255",
   "metadata": {},
   "source": [
    "# BMI Calculator"
   ]
  },
  {
   "cell_type": "code",
   "execution_count": 15,
   "id": "cab4add2",
   "metadata": {},
   "outputs": [
    {
     "name": "stdout",
     "output_type": "stream",
     "text": [
      "Input your weight in pound: 90\n",
      "Input your heigh in inch: 78\n",
      "Under Weight\n",
      "10\n"
     ]
    }
   ],
   "source": [
    "Weight = int(input(\"Input your weight in pound: \"))\n",
    "Heigh = int(input(\"Input your heigh in inch: \"))\n",
    "\n",
    "BMI = (Weight * 703) / (Heigh * Heigh)\n",
    "\n",
    "if BMI>0:\n",
    "    if (BMI<18.5):\n",
    "        print(\"Under Weight\")\n",
    "    elif (BMI<=24.9):\n",
    "        print(\"Normal Weight\")\n",
    "    elif (BMI<=29.9):\n",
    "        print(\"Over Weight\")\n",
    "    elif (BMI<=34.9):\n",
    "        print(\"Obese\")\n",
    "    elif (BMI<=39.9):\n",
    "        print(\"Severely Obese\")\n",
    "    elif (BMI<=40):\n",
    "        print(\"Morbidly Obese\")\n",
    "    else:\n",
    "        print(\"Enter Valid Input.\")\n",
    "\n",
    "print (round(BMI))"
   ]
  },
  {
   "cell_type": "code",
   "execution_count": 9,
   "id": "16996c8d",
   "metadata": {},
   "outputs": [
    {
     "name": "stdout",
     "output_type": "stream",
     "text": [
      "16.86276985229138\n"
     ]
    }
   ],
   "source": [
    "print(BMI)"
   ]
  },
  {
   "cell_type": "code",
   "execution_count": 13,
   "id": "11eec8c8",
   "metadata": {},
   "outputs": [
    {
     "name": "stdout",
     "output_type": "stream",
     "text": [
      "Under Weight\n"
     ]
    }
   ],
   "source": []
  }
 ],
 "metadata": {
  "kernelspec": {
   "display_name": "Python 3 (ipykernel)",
   "language": "python",
   "name": "python3"
  },
  "language_info": {
   "codemirror_mode": {
    "name": "ipython",
    "version": 3
   },
   "file_extension": ".py",
   "mimetype": "text/x-python",
   "name": "python",
   "nbconvert_exporter": "python",
   "pygments_lexer": "ipython3",
   "version": "3.11.4"
  }
 },
 "nbformat": 4,
 "nbformat_minor": 5
}
